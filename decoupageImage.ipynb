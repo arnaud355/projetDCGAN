{
 "cells": [
  {
   "cell_type": "code",
   "execution_count": 2,
   "metadata": {},
   "outputs": [],
   "source": [
    "from PIL import Image"
   ]
  },
  {
   "cell_type": "code",
   "execution_count": 188,
   "metadata": {},
   "outputs": [
    {
     "name": "stdout",
     "output_type": "stream",
     "text": [
      "(564, 924)\n"
     ]
    }
   ],
   "source": [
    "# Download Image:\n",
    "\n",
    "im = Image.open(\"../datasetsDraft/cartoonCharacters/imageUniquePourDecoupeImage/cartoon30.jpg\")\n",
    "\n",
    "# Check Image Size\n",
    "\n",
    "im_size = im.size\n",
    "print(im_size)"
   ]
  },
  {
   "cell_type": "code",
   "execution_count": 5,
   "metadata": {},
   "outputs": [
    {
     "name": "stdout",
     "output_type": "stream",
     "text": [
      "564\n"
     ]
    }
   ],
   "source": [
    "im_size_w = im.size[0]\n",
    "print(im_size_w)"
   ]
  },
  {
   "cell_type": "code",
   "execution_count": 4,
   "metadata": {},
   "outputs": [],
   "source": [
    "#class qui prend en paramètres: image(para obligatoire),coordX,coordY,dimWOneImg,dimHOneImg\n",
    "class CreateImagesDimFromImage:\n",
    "    def __init__(self,image,coordX,coordY,dimWOneImg,dimHOneImg):\n",
    "        self.image=image\n",
    "        self.coordX=coordX\n",
    "        self.coordY=coordY\n",
    "        self.dimWOneImg=dimWOneImg\n",
    "        self.dimHOneImg=dimHOneImg\n",
    "        \n",
    "    def imagesFromImage(self):\n",
    "        print(\"coordX\",self.coordX,\"coordY\",self.coordY,\"dimWOneImg\",self.dimWOneImg,\"dimHOneImg\",self.dimHOneImg)\n",
    "        return (self.coordX,self.coordY,self.dimWOneImg,self.dimHOneImg)"
   ]
  },
  {
   "cell_type": "code",
   "execution_count": 189,
   "metadata": {},
   "outputs": [],
   "source": [
    "#Pour chaque image constituées de personnages, renseigner nb perso ligne et colonne et url de sauvegarde, et marge cote et h\n",
    "#pour dimension d un perso: 104, 148\n",
    "LigneEstimation = 4\n",
    "ColonneEstimation = 6\n",
    "urlSave = \"../datasets/cartoonCharacters/\"\n",
    "margeCote = 0\n",
    "margeHauteur = 83\n",
    "dimWOneImg = 152\n",
    "dimHOneImg = 141"
   ]
  },
  {
   "cell_type": "code",
   "execution_count": 190,
   "metadata": {},
   "outputs": [
    {
     "name": "stdout",
     "output_type": "stream",
     "text": [
      "coordX 0 coordY 83 dimWOneImg 152 dimHOneImg 224\n",
      "coordX 0 coordY 224 dimWOneImg 152 dimHOneImg 365\n",
      "coordX 0 coordY 365 dimWOneImg 152 dimHOneImg 506\n",
      "coordX 0 coordY 506 dimWOneImg 152 dimHOneImg 647\n",
      "coordX 0 coordY 647 dimWOneImg 152 dimHOneImg 788\n",
      "coordX 0 coordY 788 dimWOneImg 152 dimHOneImg 929\n",
      "coordX 152 coordY 83 dimWOneImg 304 dimHOneImg 224\n",
      "coordX 152 coordY 224 dimWOneImg 304 dimHOneImg 365\n",
      "coordX 152 coordY 365 dimWOneImg 304 dimHOneImg 506\n",
      "coordX 152 coordY 506 dimWOneImg 304 dimHOneImg 647\n",
      "coordX 152 coordY 647 dimWOneImg 304 dimHOneImg 788\n",
      "coordX 152 coordY 788 dimWOneImg 304 dimHOneImg 929\n",
      "coordX 304 coordY 83 dimWOneImg 456 dimHOneImg 224\n",
      "coordX 304 coordY 224 dimWOneImg 456 dimHOneImg 365\n",
      "coordX 304 coordY 365 dimWOneImg 456 dimHOneImg 506\n",
      "coordX 304 coordY 506 dimWOneImg 456 dimHOneImg 647\n",
      "coordX 304 coordY 647 dimWOneImg 456 dimHOneImg 788\n",
      "coordX 304 coordY 788 dimWOneImg 456 dimHOneImg 929\n",
      "coordX 456 coordY 83 dimWOneImg 608 dimHOneImg 224\n",
      "coordX 456 coordY 224 dimWOneImg 608 dimHOneImg 365\n",
      "coordX 456 coordY 365 dimWOneImg 608 dimHOneImg 506\n",
      "coordX 456 coordY 506 dimWOneImg 608 dimHOneImg 647\n",
      "coordX 456 coordY 647 dimWOneImg 608 dimHOneImg 788\n",
      "coordX 456 coordY 788 dimWOneImg 608 dimHOneImg 929\n"
     ]
    }
   ],
   "source": [
    "v = 0\n",
    "w = \"\"\n",
    "coordX = 0\n",
    "coordY = 0\n",
    "imgSolo = ()\n",
    "\n",
    "for i in range(0,LigneEstimation):\n",
    "    if i == 0:\n",
    "        coordX = margeCote\n",
    "    else:\n",
    "        coordX = margeCote + (dimWOneImg * i)\n",
    "    for j in range(0,ColonneEstimation):\n",
    "        if j == 0:\n",
    "            coordY = margeHauteur\n",
    "        else:\n",
    "            coordY = margeHauteur + (dimHOneImg * j)\n",
    "            \n",
    "        obj = CreateImagesDimFromImage(im,coordX,coordY,coordX+dimWOneImg,coordY+dimHOneImg)\n",
    "        box = obj.imagesFromImage()\n",
    "        w = str(v)\n",
    "        v = v + 1\n",
    "        # Crop Image\n",
    "        imgSolo = im.crop(box)\n",
    "        imgSolo.save(urlSave + \"cartoon\" + w + \".png\", \"PNG\")"
   ]
  },
  {
   "cell_type": "raw",
   "metadata": {},
   "source": [
    "# Define box inside image\n",
    "\n",
    "left = 182\n",
    "top = 200\n",
    "width = 200\n",
    "height = 200\n",
    "\n",
    "\n",
    "\n",
    "box = (left, top, left+width, top+height)\n",
    "# Crop Image\n",
    "\n",
    "imgSolo = im.crop(box)\n",
    "imgSolo.show()\n",
    "print(type(box))\n",
    "    # Save Image\n",
    "\n",
    "#print(area.size)\n",
    "#area.save(\"sagaPerso.png\", \"PNG\")\n",
    "imgSolo.save(urlSave + \"perso\" + v + \".png\", \"PNG\")"
   ]
  }
 ],
 "metadata": {
  "kernelspec": {
   "display_name": "Python 3",
   "language": "python",
   "name": "python3"
  },
  "language_info": {
   "codemirror_mode": {
    "name": "ipython",
    "version": 3
   },
   "file_extension": ".py",
   "mimetype": "text/x-python",
   "name": "python",
   "nbconvert_exporter": "python",
   "pygments_lexer": "ipython3",
   "version": "3.7.6"
  }
 },
 "nbformat": 4,
 "nbformat_minor": 4
}
